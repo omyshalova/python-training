{
  "nbformat": 4,
  "nbformat_minor": 0,
  "metadata": {
    "kernelspec": {
      "display_name": "Python 3",
      "language": "python",
      "name": "python3"
    },
    "language_info": {
      "codemirror_mode": {
        "name": "ipython",
        "version": 3
      },
      "file_extension": ".py",
      "mimetype": "text/x-python",
      "name": "python",
      "nbconvert_exporter": "python",
      "pygments_lexer": "ipython3",
      "version": "3.8.3"
    },
    "colab": {
      "name": "HomeWork.ipynb\"",
      "provenance": [],
      "collapsed_sections": [],
      "include_colab_link": true
    }
  },
  "cells": [
    {
      "cell_type": "markdown",
      "metadata": {
        "id": "view-in-github",
        "colab_type": "text"
      },
      "source": [
        "<a href=\"https://colab.research.google.com/github/omyshalova/python-training/blob/master/HomeWork_ipynb%22.ipynb\" target=\"_parent\"><img src=\"https://colab.research.google.com/assets/colab-badge.svg\" alt=\"Open In Colab\"/></a>"
      ]
    },
    {
      "cell_type": "code",
      "metadata": {
        "id": "sH8TL_AFhxW1"
      },
      "source": [
        "# Задание 1\n",
        "\n",
        "a = float(input('по шкале от 0 до 10, напишите, насколько Вы устали: '))\n",
        "if a < 0.9:\n",
        "    print('Кажется, Вы совсем не устали')\n",
        "elif 0.9 <= a <= 2.8:\n",
        "    print('Вы и не устали вовсе')\n",
        "elif 2.9 <= a <= 4.8:\n",
        "    print('Вы таки устали')\n",
        "elif 4.9 <= a <= 6.8:\n",
        "    print('Вы устали, может отдохнуть?')\n",
        "elif 6.9 <= a <= 8.8:\n",
        "    print('Вы устали, срочно отдыхать!')\n",
        "else:\n",
        "    print('Все, идите отдыхать!')"
      ],
      "execution_count": null,
      "outputs": []
    },
    {
      "cell_type": "code",
      "metadata": {
        "id": "G-pM7E1UhxXB",
        "outputId": "ec180644-fb27-4627-ca53-8b9e8ce7460f",
        "colab": {
          "base_uri": "https://localhost:8080/"
        }
      },
      "source": [
        "# Задание 2\n",
        "import time\n",
        "\n",
        "i = 100 \n",
        "while i > 0:\n",
        "    print(i) \n",
        "    i = i - 10\n",
        "    time.sleep(0.5)\n",
        "print ('программа завершилась!')"
      ],
      "execution_count": null,
      "outputs": [
        {
          "output_type": "stream",
          "text": [
            "100\n",
            "90\n",
            "80\n",
            "70\n",
            "60\n",
            "50\n",
            "40\n",
            "30\n",
            "20\n",
            "10\n",
            "программа завершилась!\n"
          ],
          "name": "stdout"
        }
      ]
    },
    {
      "cell_type": "code",
      "metadata": {
        "id": "mN47gSc1hxXL",
        "outputId": "c1bb8420-4a58-4ddc-c21c-b834c16f7620",
        "colab": {
          "base_uri": "https://localhost:8080/"
        }
      },
      "source": [
        "# Задание 3\n",
        "\n",
        "import random\n",
        "excuses = [\"я устал\",\"я улетел к океану\",\"на улице холодно\",\"на улице жарко\", #мы можем переносить строки, пока в списке! \n",
        "           \"я в отпуске\",\"у меня день рождения\",\"сегодня выходной\",\"мне надоело\",\n",
        "           \"я работаю из дома\",\"могу\",\"плохо себя чувствую\",\"не хочу\", \"у меня лапки\",\"я в отпуске\",\n",
        "           \"на улице ураган\"]\n",
        "choice = random.choice(excuses)\n",
        "print(\"Сегодня я не иду на работу, потому что \", choice+'!')"
      ],
      "execution_count": null,
      "outputs": [
        {
          "output_type": "stream",
          "text": [
            "Сегодня я не иду на работу, потому что  я устал!\n"
          ],
          "name": "stdout"
        }
      ]
    }
  ]
}